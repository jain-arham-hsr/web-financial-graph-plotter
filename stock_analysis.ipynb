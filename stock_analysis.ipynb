{
 "cells": [
  {
   "cell_type": "code",
   "execution_count": 1,
   "metadata": {
    "scrolled": true
   },
   "outputs": [],
   "source": [
    "from pandas_datareader import data\n",
    "from datetime import datetime\n",
    "from bokeh.plotting import figure, show, output_file\n",
    "from bokeh.embed import components\n",
    "from bokeh.resources import CDN\n",
    "\n",
    "start = datetime(2015,11,1)\n",
    "end = datetime(2016,3,10)\n",
    "\n",
    "df = data.DataReader(name='GOOG', data_source='yahoo', start=start, end=end)\n",
    "\n",
    "def status(o, c):\n",
    "    if c > o:\n",
    "        status = \"Increase\"\n",
    "    elif o > c:\n",
    "        status = \"Decrease\"\n",
    "    else:\n",
    "        status = \"Equal\"\n",
    "    return status\n",
    "\n",
    "df[\"Status\"] = [status(o, c) for o, c in zip(df.Open, df.Close)]\n",
    "df[\"Avg\"] = (df.Open+df.Close)/2\n",
    "df[\"Height\"] = abs(df.Close-df.Open)\n",
    "\n",
    "p = figure(x_axis_type='datetime', width=1000, height=300, sizing_mode=\"scale_width\")\n",
    "p.title.text = \"Stock Analysis\"\n",
    "p.grid.grid_line_alpha = 0.3\n",
    "\n",
    "hours_12 = 12*60*60*1000 # 12 Hrs => Milliseconds\n",
    "\n",
    "p.segment(df.index, df.High, df.index, df.Low, color=\"black\")\n",
    "\n",
    "p.rect(df.index[df.Status == \"Increase\"],\n",
    "       df.Avg[df.Status == \"Increase\"],\n",
    "       hours_12,\n",
    "       df.Height[df.Status == \"Increase\"],\n",
    "       fill_color=\"#CCffff\",\n",
    "       line_color=\"black\")\n",
    "\n",
    "p.rect(df.index[df.Status == \"Decrease\"],\n",
    "       df.Avg[df.Status == \"Decrease\"],\n",
    "       hours_12,\n",
    "       df.Height[df.Status == \"Decrease\"],\n",
    "       fill_color=\"#FF3333\",\n",
    "       line_color=\"black\")\n",
    "\n",
    "# output_file(\"Candlestick Chart.html\")\n",
    "# show(p)\n",
    "\n",
    "script, div = components(p)\n",
    "cdn_js = CDN.js_files\n",
    "cdn_css = CDN.css_files"
   ]
  },
  {
   "cell_type": "code",
   "execution_count": 3,
   "metadata": {},
   "outputs": [
    {
     "data": {
      "text/plain": [
       "['https://cdn.bokeh.org/bokeh/release/bokeh-2.1.1.min.js',\n",
       " 'https://cdn.bokeh.org/bokeh/release/bokeh-widgets-2.1.1.min.js',\n",
       " 'https://cdn.bokeh.org/bokeh/release/bokeh-tables-2.1.1.min.js',\n",
       " 'https://cdn.bokeh.org/bokeh/release/bokeh-gl-2.1.1.min.js']"
      ]
     },
     "execution_count": 3,
     "metadata": {},
     "output_type": "execute_result"
    }
   ],
   "source": [
    "cdn_js"
   ]
  },
  {
   "cell_type": "code",
   "execution_count": 4,
   "metadata": {},
   "outputs": [
    {
     "data": {
      "text/plain": [
       "[]"
      ]
     },
     "execution_count": 4,
     "metadata": {},
     "output_type": "execute_result"
    }
   ],
   "source": [
    "cdn_css"
   ]
  }
 ],
 "metadata": {
  "kernelspec": {
   "display_name": "Python 3",
   "language": "python",
   "name": "python3"
  },
  "language_info": {
   "codemirror_mode": {
    "name": "ipython",
    "version": 3
   },
   "file_extension": ".py",
   "mimetype": "text/x-python",
   "name": "python",
   "nbconvert_exporter": "python",
   "pygments_lexer": "ipython3",
   "version": "3.8.5"
  }
 },
 "nbformat": 4,
 "nbformat_minor": 4
}
