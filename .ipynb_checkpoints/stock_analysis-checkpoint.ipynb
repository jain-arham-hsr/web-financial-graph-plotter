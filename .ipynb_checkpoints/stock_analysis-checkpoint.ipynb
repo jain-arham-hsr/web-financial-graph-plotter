{
 "cells": [
  {
   "cell_type": "code",
   "execution_count": 5,
   "metadata": {
    "scrolled": true
   },
   "outputs": [],
   "source": [
    "from pandas_datareader import data\n",
    "from datetime import datetime\n",
    "from bokeh.plotting import figure, show, output_file\n",
    "from bokeh.embed import components\n",
    "\n",
    "start = datetime(2015,11,1)\n",
    "end = datetime(2016,3,10)\n",
    "\n",
    "df = data.DataReader(name='GOOG', data_source='yahoo', start=start, end=end)\n",
    "\n",
    "def status(o, c):\n",
    "    if c > o:\n",
    "        status = \"Increase\"\n",
    "    elif o > c:\n",
    "        status = \"Decrease\"\n",
    "    else:\n",
    "        status = \"Equal\"\n",
    "    return status\n",
    "\n",
    "df[\"Status\"] = [status(o, c) for o, c in zip(df.Open, df.Close)]\n",
    "df[\"Avg\"] = (df.Open+df.Close)/2\n",
    "df[\"Height\"] = abs(df.Close-df.Open)\n",
    "\n",
    "p = figure(x_axis_type='datetime', width=1000, height=300, sizing_mode=\"scale_width\")\n",
    "p.title.text = \"Stock Analysis\"\n",
    "p.grid.grid_line_alpha = 0.3\n",
    "\n",
    "hours_12 = 12*60*60*1000 # 12 Hrs => Milliseconds\n",
    "\n",
    "p.segment(df.index, df.High, df.index, df.Low, color=\"black\")\n",
    "\n",
    "p.rect(df.index[df.Status == \"Increase\"],\n",
    "       df.Avg[df.Status == \"Increase\"],\n",
    "       hours_12,\n",
    "       df.Height[df.Status == \"Increase\"],\n",
    "       fill_color=\"#CCffff\",\n",
    "       line_color=\"black\")\n",
    "\n",
    "p.rect(df.index[df.Status == \"Decrease\"],\n",
    "       df.Avg[df.Status == \"Decrease\"],\n",
    "       hours_12,\n",
    "       df.Height[df.Status == \"Decrease\"],\n",
    "       fill_color=\"#FF3333\",\n",
    "       line_color=\"black\")\n",
    "\n",
    "# output_file(\"Candlestick Chart.html\")\n",
    "# show(p)\n",
    "\n",
    "script, div = components(p)"
   ]
  },
  {
   "cell_type": "code",
   "execution_count": null,
   "metadata": {},
   "outputs": [],
   "source": []
  }
 ],
 "metadata": {
  "kernelspec": {
   "display_name": "Python 3",
   "language": "python",
   "name": "python3"
  },
  "language_info": {
   "codemirror_mode": {
    "name": "ipython",
    "version": 3
   },
   "file_extension": ".py",
   "mimetype": "text/x-python",
   "name": "python",
   "nbconvert_exporter": "python",
   "pygments_lexer": "ipython3",
   "version": "3.8.5"
  }
 },
 "nbformat": 4,
 "nbformat_minor": 4
}
